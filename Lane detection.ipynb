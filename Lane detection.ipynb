{
 "cells": [
  {
   "cell_type": "code",
   "execution_count": 31,
   "metadata": {},
   "outputs": [],
   "source": [
    "###############################Import Libraries###############################\n",
    "import cv2\n",
    "import numpy as np\n",
    "###############################Diffination of used functions###############################\n",
    "def regionofi(img,vertices):\n",
    "    mask = np.zeros_like(img)\n",
    "    cv2.fillPoly(mask,vertices,255)\n",
    "    masked_image=cv2.bitwise_and(img,mask)\n",
    "    return masked_image\n",
    "def processing(img):\n",
    "    height = img.shape[0]\n",
    "    width = img.shape[1]\n",
    "    roi_vertices = [(0,height),(5*width/10,6*height/10),(width,height)]\n",
    "    gray = cv2.cvtColor(img,cv2.COLOR_RGB2GRAY)\n",
    "    canny = cv2.Canny(gray,100,150)\n",
    "    cropped = regionofi(canny,np.array([roi_vertices],np.int32))\n",
    "    return cropped\n",
    "def hough_lines(img,lines):\n",
    "    img = np.copy(img)\n",
    "    blank_image = np.zeros((img.shape[0],img.shape[1],3),dtype=np.uint8)\n",
    "    for line in lines:\n",
    "        for x1,y1,x2,y2 in line:\n",
    "            cv2.line(blank_image,(x1,y1),(x2,y2),(0,0,255),thickness=10)\n",
    "    img = cv2.addWeighted(img,0.8,blank_image,1,0.0)\n",
    "    return img\n",
    "###############################end###############################\n",
    "\n",
    "###############################Here starts the main function ###############################\n",
    "'''' # for image part (if you wanna try image uncomment this code )\n",
    "while True:\n",
    "    img = cv2.imread('whiteCarLaneSwitch.jpg')\n",
    "    crop= processing(img)\n",
    "    lines = cv2.HoughLinesP(crop,rho=6,threshold=60,theta=np.pi/180,minLineLength=50,maxLineGap=150,lines=np.array([]))\n",
    "    v = hough_lines(img,lines)\n",
    "    cv2.putText(v,'Ahmad and faisal CEP',(10,500), cv2.FONT_HERSHEY_SIMPLEX, 1,(0,255,255),2) #we have added text pf pur names for rights \n",
    "    cv2.imshow('Lane detection',v)\n",
    "    if cv2.waitKey(1) & 0xFF == ord('q'): # press q to kill the program\n",
    "            break\n",
    "cv2.destroyAllWindows()\n",
    "''''\n",
    "# for video part\n",
    "vid = cv2.VideoCapture('solidWhiteRight.mp4')\n",
    "while True:\n",
    "    ret,frame = vid.read()\n",
    "    if frame is None:\n",
    "        break\n",
    "    crop= processing(frame)\n",
    "    lines = cv2.HoughLinesP(crop,rho=6,threshold=60,theta=np.pi/180,minLineLength=50,maxLineGap=150,lines=np.array([]))\n",
    "    v = hough_lines(frame,lines)\n",
    "    cv2.putText(v,'Ahmad and faisal CEP',(10,500), cv2.FONT_HERSHEY_SIMPLEX, 1,(0,255,255),2) #we have added text pf pur names for rights \n",
    "    cv2.imshow('Lane detection',v)\n",
    "    if cv2.waitKey(1) & 0xFF == ord('q'): # press q to kill the program\n",
    "            break\n",
    "vid.release()\n",
    "cv2.destroyAllWindows()"
   ]
  },
  {
   "cell_type": "code",
   "execution_count": null,
   "metadata": {},
   "outputs": [],
   "source": []
  },
  {
   "cell_type": "code",
   "execution_count": null,
   "metadata": {},
   "outputs": [],
   "source": []
  },
  {
   "cell_type": "code",
   "execution_count": null,
   "metadata": {},
   "outputs": [],
   "source": []
  }
 ],
 "metadata": {
  "kernelspec": {
   "display_name": "Python 3",
   "language": "python",
   "name": "python3"
  },
  "language_info": {
   "codemirror_mode": {
    "name": "ipython",
    "version": 3
   },
   "file_extension": ".py",
   "mimetype": "text/x-python",
   "name": "python",
   "nbconvert_exporter": "python",
   "pygments_lexer": "ipython3",
   "version": "3.8.5"
  }
 },
 "nbformat": 4,
 "nbformat_minor": 4
}
